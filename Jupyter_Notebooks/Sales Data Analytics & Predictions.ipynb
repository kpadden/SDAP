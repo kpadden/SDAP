{
 "cells": [
  {
   "cell_type": "markdown",
   "metadata": {},
   "source": [
    "# Sales Data Analytics & Predictions"
   ]
  },
  {
   "cell_type": "markdown",
   "metadata": {},
   "source": [
    "## Mission Statement\n",
    "\n",
    "**This notebook is based off of the excel file (`Sales Calls.xlsx`) by Tom Padden.**\n",
    "\n",
    "The background data is a collection of sales data recorded over a period of 10 years.\n",
    "\n",
    "- No access to this data will be permitted.\n",
    "- New data may be contributed at a later date.\n",
    "\n",
    "The purpose of this program is to run a sales forcast based on your personal business metrics: \n",
    "\n",
    "  - `n_reps`: The number of sales reps.\n",
    "  - `calls_per_day`: The number of calls made per sales rep.\n",
    "  - `avg_sale`: The average price per sale.\n",
    "  - `prob_contact`: The probability of making contact with a customer.\n",
    "  - `prob_sale`: The probability of making a sale with a customer.\n",
    "  - `call_hrs`: The total number of hours on the phone per day."
   ]
  },
  {
   "cell_type": "markdown",
   "metadata": {},
   "source": [
    "### Import Selected Features"
   ]
  },
  {
   "cell_type": "code",
   "execution_count": 1,
   "metadata": {},
   "outputs": [],
   "source": [
    "# Imports\n",
    "\n",
    "# Display plots directly in the notebook instead of in a new window\n",
    "%matplotlib inline\n",
    "\n",
    "# Import libraries\n",
    "import numpy as np\n",
    "import pandas as pd\n",
    "import matplotlib.pyplot as plt\n",
    "import seaborn as sns"
   ]
  },
  {
   "cell_type": "code",
   "execution_count": 2,
   "metadata": {},
   "outputs": [],
   "source": [
    "# Configure libraries\n",
    "# The seaborn library makes plots look nicer\n",
    "sns.set()\n",
    "sns.set_context('talk')\n",
    "\n",
    "# Don't display too many rows/cols of DataFrames\n",
    "pd.options.display.max_rows = 7\n",
    "pd.options.display.max_columns = 8\n",
    "\n",
    "# Round decimals when displaying DataFrames\n",
    "pd.set_option('precision', 2)"
   ]
  },
  {
   "cell_type": "markdown",
   "metadata": {},
   "source": [
    "### Gathering Business Metrics"
   ]
  },
  {
   "cell_type": "code",
   "execution_count": 3,
   "metadata": {},
   "outputs": [],
   "source": [
    "# Initializing Business Metrics\n",
    "n_reps = 1\n",
    "calls_per_day = 20\n",
    "avg_sale = 3702\n",
    "prob_contact = .15\n",
    "prob_sale = .1\n",
    "call_hrs = 4"
   ]
  },
  {
   "cell_type": "markdown",
   "metadata": {},
   "source": [
    "### Measured Tracking"
   ]
  },
  {
   "cell_type": "code",
   "execution_count": 4,
   "metadata": {},
   "outputs": [
    {
     "name": "stdout",
     "output_type": "stream",
     "text": [
      "\n",
      "Each day: Sales Rep will spend 12 mins per call, making 5 calls per hour\n",
      "and will reach 3 customers while making 0.3 sales per day!\n",
      "\n",
      "Quarterly Prediction: 20 calls per day will yeild 1200 calls, 18 sales, and $ 66,636.0 in quarterly revenue!\n",
      "\n",
      "Yearly Prediction: 20 calls per day will yeild 4800 calls, 72 sales, and $ 266,544.0 in anual revenue!\n"
     ]
    }
   ],
   "source": [
    "# Calculating outputs\n",
    "# Calls\n",
    "call_mins = call_hrs * 60 / calls_per_day\n",
    "calls_per_hr = 60 / call_mins\n",
    "calls_per_wk = calls_per_day * 5\n",
    "calls_per_mth = calls_per_wk * 4\n",
    "calls_per_qtr = calls_per_mth * 3\n",
    "calls_per_yr = calls_per_qtr * 4\n",
    "\n",
    "# Contacts\n",
    "contacts_per_day = calls_per_day * prob_contact * n_reps\n",
    "\n",
    "# Sales\n",
    "sales_per_day = contacts_per_day * prob_sale * n_reps\n",
    "sales_per_wk = sales_per_day * 5 * n_reps\n",
    "sales_per_mth = sales_per_wk * 4 * n_reps\n",
    "sales_per_qtr = sales_per_mth * 3 * n_reps\n",
    "sales_per_yr = sales_per_qtr * 4 * n_reps\n",
    "\n",
    "# Revenue\n",
    "rev_per_qtr = sales_per_qtr * avg_sale\n",
    "rev_per_yr = sales_per_yr * avg_sale\n",
    "\n",
    "# Report Outputs\n",
    "if n_reps > 1:\n",
    "    print(\"\\nEach day: Sales Reps will each spend\", int(call_mins), \"mins per call, making\", int(calls_per_hr), \"calls per hour\")\n",
    "else:\n",
    "    print(\"\\nEach day: Sales Rep will spend\", int(call_mins), \"mins per call, making\", int(calls_per_hr), \"calls per hour\")\n",
    "print(\"and will reach\", int(contacts_per_day), \"customers while making\", round(sales_per_day, 2), \"sales per day!\")\n",
    "\n",
    "# Simple prediction: Quarterly\n",
    "print(\"\\nQuarterly Prediction:\", int(calls_per_day), \"calls per day will yeild\", int(calls_per_qtr), \"calls,\", int(sales_per_qtr), \"sales, and $\", \"{:,}\".format(round(rev_per_qtr, 2)), \"in quarterly revenue!\")\n",
    "\n",
    "# Simple prediction: Yearly\n",
    "print(\"\\nYearly Prediction:\", int(calls_per_day), \"calls per day will yeild\", int(calls_per_yr), \"calls,\", int(sales_per_yr), \"sales, and $\", \"{:,}\".format(round(rev_per_yr, 2)), \"in anual revenue!\")"
   ]
  },
  {
   "cell_type": "markdown",
   "metadata": {},
   "source": [
    "### DataFrame Construction"
   ]
  },
  {
   "cell_type": "code",
   "execution_count": 5,
   "metadata": {},
   "outputs": [
    {
     "data": {
      "text/html": [
       "<div>\n",
       "<style scoped>\n",
       "    .dataframe tbody tr th:only-of-type {\n",
       "        vertical-align: middle;\n",
       "    }\n",
       "\n",
       "    .dataframe tbody tr th {\n",
       "        vertical-align: top;\n",
       "    }\n",
       "\n",
       "    .dataframe thead th {\n",
       "        text-align: right;\n",
       "    }\n",
       "</style>\n",
       "<table border=\"1\" class=\"dataframe\">\n",
       "  <thead>\n",
       "    <tr style=\"text-align: right;\">\n",
       "      <th></th>\n",
       "      <th>metric</th>\n",
       "      <th>sample</th>\n",
       "    </tr>\n",
       "  </thead>\n",
       "  <tbody>\n",
       "    <tr>\n",
       "      <th>0</th>\n",
       "      <td>calls_per_day</td>\n",
       "      <td>20.0</td>\n",
       "    </tr>\n",
       "    <tr>\n",
       "      <th>1</th>\n",
       "      <td>call_mins</td>\n",
       "      <td>12.0</td>\n",
       "    </tr>\n",
       "    <tr>\n",
       "      <th>2</th>\n",
       "      <td>calls_per_hr</td>\n",
       "      <td>5.0</td>\n",
       "    </tr>\n",
       "    <tr>\n",
       "      <th>...</th>\n",
       "      <td>...</td>\n",
       "      <td>...</td>\n",
       "    </tr>\n",
       "    <tr>\n",
       "      <th>12</th>\n",
       "      <td>sales_per_yr</td>\n",
       "      <td>72.0</td>\n",
       "    </tr>\n",
       "    <tr>\n",
       "      <th>13</th>\n",
       "      <td>rev_per_qtr</td>\n",
       "      <td>66636.0</td>\n",
       "    </tr>\n",
       "    <tr>\n",
       "      <th>14</th>\n",
       "      <td>rev_per_yr</td>\n",
       "      <td>266544.0</td>\n",
       "    </tr>\n",
       "  </tbody>\n",
       "</table>\n",
       "<p>15 rows × 2 columns</p>\n",
       "</div>"
      ],
      "text/plain": [
       "           metric    sample\n",
       "0   calls_per_day      20.0\n",
       "1       call_mins      12.0\n",
       "2    calls_per_hr       5.0\n",
       "..            ...       ...\n",
       "12   sales_per_yr      72.0\n",
       "13    rev_per_qtr   66636.0\n",
       "14     rev_per_yr  266544.0\n",
       "\n",
       "[15 rows x 2 columns]"
      ]
     },
     "execution_count": 5,
     "metadata": {},
     "output_type": "execute_result"
    }
   ],
   "source": [
    "# Create new DataFrame\n",
    "df = pd.DataFrame(data={'metric': ['calls_per_day', 'call_mins', 'calls_per_hr', 'calls_per_wk', 'calls_per_mth', 'calls_per_qtr', 'calls_per_yr', 'contacts_per_day', 'sales_per_day', 'sales_per_wk', 'sales_per_mth', 'sales_per_qtr', 'sales_per_yr', 'rev_per_qtr', 'rev_per_yr']})\n",
    "\n",
    "# Add sample data\n",
    "df['sample'] = [int(calls_per_day), int(call_mins), int(calls_per_hr), int(calls_per_wk), int(calls_per_mth), int(calls_per_qtr), int(calls_per_yr), int(contacts_per_day), round(sales_per_day, 2), round(sales_per_wk, 2), round(sales_per_mth, 2), round(sales_per_qtr, 2), round(sales_per_yr, 2), round(rev_per_qtr, 2), round(rev_per_yr, 2)]\n",
    "\n",
    "# Print DataFrame\n",
    "df"
   ]
  },
  {
   "cell_type": "markdown",
   "metadata": {},
   "source": [
    "## Data Visualization"
   ]
  },
  {
   "cell_type": "code",
   "execution_count": 6,
   "metadata": {},
   "outputs": [
    {
     "data": {
      "text/plain": [
       "[<matplotlib.lines.Line2D at 0x99479906a0>]"
      ]
     },
     "execution_count": 6,
     "metadata": {},
     "output_type": "execute_result"
    },
    {
     "data": {
      "image/png": "[encoded data removed]",
      "text/plain": [
       "<Figure size 432x288 with 1 Axes>"
      ]
     },
     "metadata": {},
     "output_type": "display_data"
    }
   ],
   "source": [
    "# Create Graph\n",
    "f, ax = plt.subplots()\n",
    "plt.xlabel('Calls Per Day'); plt.xlim([0, 32]);\n",
    "plt.ylabel('Anual Revenue'); plt.ylim([0, 450000]);\n",
    "\n",
    "# Create Linear Model *needs more data and transposed df*\n",
    "#a1, b1 = np.polyfit(df['calls_per_day'], rev_per_yr, 1)\n",
    "a1 = 13327.2\n",
    "b1 = 0\n",
    "\n",
    "# Plot Linear Prediction\n",
    "x = np.arange(1, 31)\n",
    "y = a1 * x + b1\n",
    "plt.plot(x, y, '-r')"
   ]
  },
  {
   "cell_type": "code",
   "execution_count": null,
   "metadata": {},
   "outputs": [],
   "source": []
  }
 ],
 "metadata": {
  "kernelspec": {
   "display_name": "Python 3",
   "language": "python",
   "name": "python3"
  },
  "language_info": {
   "codemirror_mode": {
    "name": "ipython",
    "version": 3
   },
   "file_extension": ".py",
   "mimetype": "text/x-python",
   "name": "python",
   "nbconvert_exporter": "python",
   "pygments_lexer": "ipython3",
   "version": "3.7.1"
  }
 },
 "nbformat": 4,
 "nbformat_minor": 2
}
